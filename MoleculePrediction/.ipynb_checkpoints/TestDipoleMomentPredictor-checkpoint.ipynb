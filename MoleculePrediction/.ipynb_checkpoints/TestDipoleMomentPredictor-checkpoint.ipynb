{
 "cells": [
  {
   "cell_type": "code",
   "execution_count": 2,
   "metadata": {},
   "outputs": [],
   "source": [
    "import tensorflow as tf\n",
    "import pandas as pd\n",
    "import numpy as np\n",
    "import pickle as pk\n",
    "import molecule_predictionv1_0 as mp"
   ]
  },
  {
   "cell_type": "code",
   "execution_count": 3,
   "metadata": {},
   "outputs": [
    {
     "name": "stdout",
     "output_type": "stream",
     "text": [
      "WARNING:tensorflow:From C:\\ProgramData\\Anaconda3\\lib\\site-packages\\tensorflow\\python\\training\\saver.py:1266: checkpoint_exists (from tensorflow.python.training.checkpoint_management) is deprecated and will be removed in a future version.\n",
      "Instructions for updating:\n",
      "Use standard file APIs to check for files with this prefix.\n",
      "INFO:tensorflow:Restoring parameters from models/my_model_2080.ckpt\n"
     ]
    }
   ],
   "source": [
    "sess = tf.Session()    \n",
    "saver = tf.train.import_meta_graph(\"models/my_model_2080.ckpt.meta\")\n",
    "saver.restore(sess,\"models/my_model_2080.ckpt\")\n",
    "graph = tf.get_default_graph()"
   ]
  },
  {
   "cell_type": "code",
   "execution_count": 4,
   "metadata": {},
   "outputs": [
    {
     "name": "stdout",
     "output_type": "stream",
     "text": [
      "Reading molecule structures\n",
      "Done Reading molecule structures\n",
      "Reading molecule prop\n",
      "Done Reading molecule prop\n",
      "Reading Coulomb_mat\n",
      "done reading coulomb mat\n"
     ]
    }
   ],
   "source": [
    "dat = mp.molecule_prediction_data_wrapper()"
   ]
  },
  {
   "cell_type": "code",
   "execution_count": 1,
   "metadata": {},
   "outputs": [
    {
     "ename": "NameError",
     "evalue": "name 'dat' is not defined",
     "output_type": "error",
     "traceback": [
      "\u001b[1;31m---------------------------------------------------------------------------\u001b[0m",
      "\u001b[1;31mNameError\u001b[0m                                 Traceback (most recent call last)",
      "\u001b[1;32m<ipython-input-1-100ffe4ce36d>\u001b[0m in \u001b[0;36m<module>\u001b[1;34m\u001b[0m\n\u001b[1;32m----> 1\u001b[1;33m \u001b[0mdat\u001b[0m\u001b[1;33m.\u001b[0m\u001b[0mmolecule_structures\u001b[0m\u001b[1;33m[\u001b[0m\u001b[1;34m\"dsgdb9nsd_078231\"\u001b[0m\u001b[1;33m]\u001b[0m\u001b[1;33m\u001b[0m\u001b[1;33m\u001b[0m\u001b[0m\n\u001b[0m",
      "\u001b[1;31mNameError\u001b[0m: name 'dat' is not defined"
     ]
    }
   ],
   "source": [
    "dat.molecule_structures[\"dsgdb9nsd_078231\"]"
   ]
  },
  {
   "cell_type": "code",
   "execution_count": 8,
   "metadata": {
    "collapsed": true
   },
   "outputs": [],
   "source": [
    "prediction = graph.get_tensor_by_name('dnn/dense_3/BiasAdd:0')\n",
    "input_t = graph.get_tensor_by_name('IteratorGetNext:0')"
   ]
  },
  {
   "cell_type": "code",
   "execution_count": 11,
   "metadata": {
    "collapsed": true
   },
   "outputs": [
    {
     "name": "stdout",
     "output_type": "stream",
     "text": [
      "dsgdb9nsd_078231\n",
      "actual  [-0.041  -0.2743  0.0513] predicted  [[-10043.302    9816.086   -3469.7793]] error  14466.089289534939\n",
      "dsgdb9nsd_033204\n",
      "actual  [-2.673   1.9985  0.4722] predicted  [[-14826.723   14537.3545  -4854.66  ]] error  21321.382043087462\n",
      "dsgdb9nsd_111842\n",
      "actual  [1.6852 0.6799 0.5449] predicted  [[-7392.597   7326.9185 -2534.1255]] error  10713.250538889431\n",
      "dsgdb9nsd_133712\n",
      "actual  [ 2.159   0.5263 -0.4283] predicted  [[-20780.201   20298.295   -7152.8813]] error  29917.611701799273\n",
      "dsgdb9nsd_117914\n",
      "actual  [ 1.7074 -2.1109  0.5339] predicted  [[-12667.76    12447.013   -4183.6016]] error  18248.37160189277\n",
      "dsgdb9nsd_009847\n",
      "actual  [ 0.2845 -0.1349  1.4619] predicted  [[-7202.2407  7161.0522 -2313.658 ]] error  10417.233360438924\n",
      "dsgdb9nsd_128771\n",
      "actual  [-4.9067  0.8161 -0.1786] predicted  [[-14574.865  14321.782  -4977.37 ]] error  21027.272716410956\n",
      "dsgdb9nsd_111079\n",
      "actual  [ 2.3543 -1.7178  0.255 ] predicted  [[-12350.35   12156.888  -4194.797]] error  17833.09960991843\n",
      "dsgdb9nsd_019827\n",
      "actual  [ 1.6879  1.9439 -1.3509] predicted  [[-12293.074   12270.386   -4071.4976]] error  17839.33672013197\n",
      "dsgdb9nsd_063924\n",
      "actual  [-0.035  -0.1126 -0.0185] predicted  [[-7609.887   7487.7183 -2615.5964]] error  10991.756436688624\n",
      "dsgdb9nsd_111344\n",
      "actual  [1.1001 1.3288 0.0522] predicted  [[-10439.8125  10125.387   -3475.0896]] error  14952.786201589175\n"
     ]
    }
   ],
   "source": [
    "i = 0\n",
    "for molecule in dat.molecules_test:\n",
    "    print(molecule)\n",
    "    a = dat.get_output_vector(molecule)\n",
    "    b = sess.run(prediction, feed_dict={input_t: dat.get_input_vector(molecule).reshape((1,240))})\n",
    "    print(\"actual \" , a, \"predicted \", b, \"error \", \n",
    "          np.sqrt(np.sum((a-b)**2)))\n",
    "    i = i+1\n",
    "    if i > 10:\n",
    "        break"
   ]
  },
  {
   "cell_type": "code",
   "execution_count": null,
   "metadata": {},
   "outputs": [],
   "source": []
  }
 ],
 "metadata": {
  "kernelspec": {
   "display_name": "Python 3",
   "language": "python",
   "name": "python3"
  },
  "language_info": {
   "codemirror_mode": {
    "name": "ipython",
    "version": 3
   },
   "file_extension": ".py",
   "mimetype": "text/x-python",
   "name": "python",
   "nbconvert_exporter": "python",
   "pygments_lexer": "ipython3",
   "version": "3.7.3"
  }
 },
 "nbformat": 4,
 "nbformat_minor": 1
}
